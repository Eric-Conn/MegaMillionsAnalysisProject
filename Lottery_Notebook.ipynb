{
 "cells": [
  {
   "cell_type": "markdown",
   "id": "df252f68",
   "metadata": {},
   "source": [
    "# Mega Millions Project\n",
    "\n",
    "#### Abstract:\n",
    "For this project we computed the probabilities of winning a Mega Millions jackpot, and then did different computations on the Mega Millions Winning Numbers Dataset to see if the game was fair or not, and so far, all computations point to the game being fair.\n",
    "\n",
    "This is a work in progress.\n",
    "\n",
    "There may be some typos and grammar mistakes; not done proofreading.\n",
    "\n",
    "This is a personal project.\n",
    "\n",
    "I have no affiliation with the New York Lottery or the Mega Millions game.\n"
   ]
  },
  {
   "cell_type": "markdown",
   "id": "79447fdd",
   "metadata": {},
   "source": [
    "# Introduction\n",
    "<!-- Hello, we will be working on a new project today.  -->\n",
    "\n",
    "\n",
    "Suppose we are analyzing the Mega Millions lottery game. We may want to understand our probability of winning the jackpot, and then look at different computations and distributions to see if the game really is fair or not."
   ]
  },
  {
   "cell_type": "markdown",
   "id": "a74823ac",
   "metadata": {},
   "source": [
    "### How the game works\n",
    "The Mega Millions lottery game works by a player first selecting 5 numbers from $[1..70]$ without replacement, and then selects a number from $[1..25]$ without replacement. Next, a machine randomly outputs 5 numbers from $[1..70]$ \n",
    "without replacement, and then outputs a single number from $[1..25]$. If the players first 5 selected numbers match the first 5 numbers outputted by the machine, up to permutation, and then their final chosen number mathces th final outputted number, then they win the jackpot. "
   ]
  },
  {
   "cell_type": "markdown",
   "id": "7da46d88",
   "metadata": {},
   "source": [
    "### Some Probabilities.\n",
    "\n",
    "We may ask then, what are the probabilities of winning the jackpot? Since our first five chosen numbers only have to match the first 5 outputted numbers up to permutation, we only have to worry about the probability of a single combination being outputted by the machine. Then we just need to worry about matching our final chosen number to the number outputted from $[1..25]$.\n",
    "\n",
    "Since every combination is equally likely, we have $$Pr(\\text{matching the first 5 numbers}) = \\dfrac{1}{{{70}\\choose{5}}} $$\n",
    "\n",
    "and $$Pr(\\text{matching the last nunmber}) = \\dfrac{1}{25}$$,\n",
    "\n",
    "and thus $$Pr(\\text{ winning the jackpot}) = \\dfrac{1}{{{70}\\choose{5}}25}$$"
   ]
  },
  {
   "cell_type": "markdown",
   "id": "4e88a23c",
   "metadata": {},
   "source": [
    "We can compute these numbers using the math library comb function:"
   ]
  },
  {
   "cell_type": "code",
   "execution_count": 8,
   "id": "365acc33",
   "metadata": {},
   "outputs": [
    {
     "name": "stdout",
     "output_type": "stream",
     "text": [
      "Total number of combinations of five numbers that can be outputted by the machine : 12,103,014.\n",
      "Probability of matching the first five outputted numbers: 0.0000000826.\n"
     ]
    }
   ],
   "source": [
    "from math import comb\n",
    "\n",
    "\n",
    "C = comb(70,5)\n",
    "print(f'Total number of combinations of five numbers\\\n",
    " that can be outputted by the machine : {C:,.0f}.')\n",
    "print(f'Probability of matching the first\\\n",
    " five outputted numbers: {1/C:.10f}.')\n",
    "\n",
    "\n"
   ]
  },
  {
   "cell_type": "code",
   "execution_count": 314,
   "id": "64dff50d",
   "metadata": {},
   "outputs": [
    {
     "name": "stdout",
     "output_type": "stream",
     "text": [
      "Number of possible final putputs by the machine: 25.\n",
      "Probability of matching the last outputted numbers: 0.04.\n"
     ]
    }
   ],
   "source": [
    "print(f'Number of possible final putputs by the machine: {25}.')\n",
    "print(f'Probability of matching the last outputted numbers: {1/25:.2f}.')"
   ]
  },
  {
   "cell_type": "code",
   "execution_count": 10,
   "id": "60456025",
   "metadata": {},
   "outputs": [
    {
     "name": "stdout",
     "output_type": "stream",
     "text": [
      "Total number of combinations that can be outputted by the machine : 302,575,350.\n",
      "Probability of matching the first five outputted numbers: 0.000000003304962.\n"
     ]
    }
   ],
   "source": [
    "print(f'Total number of combinations that\\\n",
    " can be outputted by the machine : {C*25:,.0f}.')\n",
    "print(f'Probability of matching the\\\n",
    " first five outputted numbers: {(1/C)*(1/25):.15f}.')"
   ]
  },
  {
   "cell_type": "markdown",
   "id": "ad015c8c",
   "metadata": {},
   "source": [
    "So we have \n",
    "\n",
    "$$Pr(\\text{matching the first 5 numbers}) = \\dfrac{1}{{{70}\\choose{5}}} = \\dfrac{1}{12,103,014}$$\n",
    "\n",
    "and\n",
    "\n",
    "$$Pr( \\text{winning the jackpot}) = \\dfrac{1}{{{70}\\choose{5}}25} = \\dfrac{1}{302,575,350}$$\n",
    "\n",
    "\n"
   ]
  },
  {
   "cell_type": "code",
   "execution_count": 316,
   "id": "dd3fe4d2",
   "metadata": {},
   "outputs": [],
   "source": [
    "import pandas as pd"
   ]
  },
  {
   "cell_type": "code",
   "execution_count": 317,
   "id": "6dd3c859",
   "metadata": {},
   "outputs": [],
   "source": [
    "path = 'data/'+'Lottery_Mega_Millions_Winning_Numbers__Beginning_2002_20240116.csv'"
   ]
  },
  {
   "cell_type": "code",
   "execution_count": 318,
   "id": "97cfc41d",
   "metadata": {},
   "outputs": [],
   "source": [
    "data = pd.read_csv(path)"
   ]
  },
  {
   "cell_type": "code",
   "execution_count": 319,
   "id": "b2168bab",
   "metadata": {},
   "outputs": [
    {
     "data": {
      "text/html": [
       "<div>\n",
       "<style scoped>\n",
       "    .dataframe tbody tr th:only-of-type {\n",
       "        vertical-align: middle;\n",
       "    }\n",
       "\n",
       "    .dataframe tbody tr th {\n",
       "        vertical-align: top;\n",
       "    }\n",
       "\n",
       "    .dataframe thead th {\n",
       "        text-align: right;\n",
       "    }\n",
       "</style>\n",
       "<table border=\"1\" class=\"dataframe\">\n",
       "  <thead>\n",
       "    <tr style=\"text-align: right;\">\n",
       "      <th></th>\n",
       "      <th>Draw Date</th>\n",
       "      <th>Winning Numbers</th>\n",
       "      <th>Mega Ball</th>\n",
       "      <th>Multiplier</th>\n",
       "    </tr>\n",
       "  </thead>\n",
       "  <tbody>\n",
       "    <tr>\n",
       "      <th>0</th>\n",
       "      <td>01/12/2024</td>\n",
       "      <td>19 34 35 45 67</td>\n",
       "      <td>7</td>\n",
       "      <td>3.0</td>\n",
       "    </tr>\n",
       "    <tr>\n",
       "      <th>1</th>\n",
       "      <td>01/09/2024</td>\n",
       "      <td>12 15 32 33 53</td>\n",
       "      <td>24</td>\n",
       "      <td>3.0</td>\n",
       "    </tr>\n",
       "    <tr>\n",
       "      <th>2</th>\n",
       "      <td>01/05/2024</td>\n",
       "      <td>05 23 26 38 44</td>\n",
       "      <td>25</td>\n",
       "      <td>3.0</td>\n",
       "    </tr>\n",
       "    <tr>\n",
       "      <th>3</th>\n",
       "      <td>01/02/2024</td>\n",
       "      <td>03 18 27 29 64</td>\n",
       "      <td>1</td>\n",
       "      <td>2.0</td>\n",
       "    </tr>\n",
       "    <tr>\n",
       "      <th>4</th>\n",
       "      <td>12/29/2023</td>\n",
       "      <td>11 27 30 62 70</td>\n",
       "      <td>10</td>\n",
       "      <td>3.0</td>\n",
       "    </tr>\n",
       "  </tbody>\n",
       "</table>\n",
       "</div>"
      ],
      "text/plain": [
       "    Draw Date Winning Numbers  Mega Ball  Multiplier\n",
       "0  01/12/2024  19 34 35 45 67          7         3.0\n",
       "1  01/09/2024  12 15 32 33 53         24         3.0\n",
       "2  01/05/2024  05 23 26 38 44         25         3.0\n",
       "3  01/02/2024  03 18 27 29 64          1         2.0\n",
       "4  12/29/2023  11 27 30 62 70         10         3.0"
      ]
     },
     "execution_count": 319,
     "metadata": {},
     "output_type": "execute_result"
    }
   ],
   "source": [
    "data.head()"
   ]
  },
  {
   "cell_type": "code",
   "execution_count": 320,
   "id": "84ee150e",
   "metadata": {},
   "outputs": [
    {
     "name": "stdout",
     "output_type": "stream",
     "text": [
      "<class 'pandas.core.frame.DataFrame'>\n",
      "RangeIndex: 2258 entries, 0 to 2257\n",
      "Data columns (total 4 columns):\n",
      " #   Column           Non-Null Count  Dtype  \n",
      "---  ------           --------------  -----  \n",
      " 0   Draw Date        2258 non-null   object \n",
      " 1   Winning Numbers  2258 non-null   object \n",
      " 2   Mega Ball        2258 non-null   int64  \n",
      " 3   Multiplier       1355 non-null   float64\n",
      "dtypes: float64(1), int64(1), object(2)\n",
      "memory usage: 70.7+ KB\n"
     ]
    }
   ],
   "source": [
    "data.info()"
   ]
  },
  {
   "cell_type": "code",
   "execution_count": 321,
   "id": "31bcc1c4",
   "metadata": {},
   "outputs": [],
   "source": [
    "data.index = dates = pd.DatetimeIndex(data['Draw Date'])"
   ]
  },
  {
   "cell_type": "code",
   "execution_count": 322,
   "id": "489584ce",
   "metadata": {},
   "outputs": [],
   "source": [
    "data.drop('Draw Date',axis = 1, inplace = True)"
   ]
  },
  {
   "cell_type": "code",
   "execution_count": 323,
   "id": "305c840f",
   "metadata": {},
   "outputs": [
    {
     "data": {
      "text/html": [
       "<div>\n",
       "<style scoped>\n",
       "    .dataframe tbody tr th:only-of-type {\n",
       "        vertical-align: middle;\n",
       "    }\n",
       "\n",
       "    .dataframe tbody tr th {\n",
       "        vertical-align: top;\n",
       "    }\n",
       "\n",
       "    .dataframe thead th {\n",
       "        text-align: right;\n",
       "    }\n",
       "</style>\n",
       "<table border=\"1\" class=\"dataframe\">\n",
       "  <thead>\n",
       "    <tr style=\"text-align: right;\">\n",
       "      <th></th>\n",
       "      <th>Winning Numbers</th>\n",
       "      <th>Mega Ball</th>\n",
       "      <th>Multiplier</th>\n",
       "    </tr>\n",
       "    <tr>\n",
       "      <th>Draw Date</th>\n",
       "      <th></th>\n",
       "      <th></th>\n",
       "      <th></th>\n",
       "    </tr>\n",
       "  </thead>\n",
       "  <tbody>\n",
       "    <tr>\n",
       "      <th>2024-01-12</th>\n",
       "      <td>19 34 35 45 67</td>\n",
       "      <td>7</td>\n",
       "      <td>3.0</td>\n",
       "    </tr>\n",
       "    <tr>\n",
       "      <th>2024-01-09</th>\n",
       "      <td>12 15 32 33 53</td>\n",
       "      <td>24</td>\n",
       "      <td>3.0</td>\n",
       "    </tr>\n",
       "    <tr>\n",
       "      <th>2024-01-05</th>\n",
       "      <td>05 23 26 38 44</td>\n",
       "      <td>25</td>\n",
       "      <td>3.0</td>\n",
       "    </tr>\n",
       "    <tr>\n",
       "      <th>2024-01-02</th>\n",
       "      <td>03 18 27 29 64</td>\n",
       "      <td>1</td>\n",
       "      <td>2.0</td>\n",
       "    </tr>\n",
       "    <tr>\n",
       "      <th>2023-12-29</th>\n",
       "      <td>11 27 30 62 70</td>\n",
       "      <td>10</td>\n",
       "      <td>3.0</td>\n",
       "    </tr>\n",
       "  </tbody>\n",
       "</table>\n",
       "</div>"
      ],
      "text/plain": [
       "           Winning Numbers  Mega Ball  Multiplier\n",
       "Draw Date                                        \n",
       "2024-01-12  19 34 35 45 67          7         3.0\n",
       "2024-01-09  12 15 32 33 53         24         3.0\n",
       "2024-01-05  05 23 26 38 44         25         3.0\n",
       "2024-01-02  03 18 27 29 64          1         2.0\n",
       "2023-12-29  11 27 30 62 70         10         3.0"
      ]
     },
     "execution_count": 323,
     "metadata": {},
     "output_type": "execute_result"
    }
   ],
   "source": [
    "data.head() #Looking at the result of transformations"
   ]
  },
  {
   "cell_type": "code",
   "execution_count": 324,
   "id": "4f571cda",
   "metadata": {},
   "outputs": [],
   "source": [
    "lottery_nf = data[data.index >= '2017-11-1'].copy()"
   ]
  },
  {
   "cell_type": "code",
   "execution_count": 325,
   "id": "32bd4bc1",
   "metadata": {},
   "outputs": [
    {
     "name": "stdout",
     "output_type": "stream",
     "text": [
      "<class 'pandas.core.frame.DataFrame'>\n",
      "DatetimeIndex: 647 entries, 2024-01-12 to 2017-11-03\n",
      "Data columns (total 3 columns):\n",
      " #   Column           Non-Null Count  Dtype  \n",
      "---  ------           --------------  -----  \n",
      " 0   Winning Numbers  647 non-null    object \n",
      " 1   Mega Ball        647 non-null    int64  \n",
      " 2   Multiplier       647 non-null    float64\n",
      "dtypes: float64(1), int64(1), object(1)\n",
      "memory usage: 20.2+ KB\n"
     ]
    }
   ],
   "source": [
    "lottery_nf.info()"
   ]
  },
  {
   "cell_type": "code",
   "execution_count": 326,
   "id": "ea13a1ac",
   "metadata": {},
   "outputs": [
    {
     "data": {
      "text/plain": [
       "['19', '34', '35', '45', '67']"
      ]
     },
     "execution_count": 326,
     "metadata": {},
     "output_type": "execute_result"
    }
   ],
   "source": [
    "lottery_nf['Winning Numbers'].iloc[0].split(' ')"
   ]
  },
  {
   "cell_type": "code",
   "execution_count": 327,
   "id": "3be8da77",
   "metadata": {},
   "outputs": [],
   "source": [
    "def string_to_tuple(x):\n",
    "    x = x.split(' ')\n",
    "    return tuple(sorted([int(s) for s in x],reverse = True))  \n",
    "    "
   ]
  },
  {
   "cell_type": "code",
   "execution_count": 328,
   "id": "ced66c5a",
   "metadata": {},
   "outputs": [],
   "source": [
    "lottery_nf['five_tuples'] = lottery_nf['Winning Numbers'].apply(string_to_tuple).apply(sorted).apply(tuple)"
   ]
  },
  {
   "cell_type": "code",
   "execution_count": 329,
   "id": "0d0c5449",
   "metadata": {},
   "outputs": [
    {
     "data": {
      "text/html": [
       "<div>\n",
       "<style scoped>\n",
       "    .dataframe tbody tr th:only-of-type {\n",
       "        vertical-align: middle;\n",
       "    }\n",
       "\n",
       "    .dataframe tbody tr th {\n",
       "        vertical-align: top;\n",
       "    }\n",
       "\n",
       "    .dataframe thead th {\n",
       "        text-align: right;\n",
       "    }\n",
       "</style>\n",
       "<table border=\"1\" class=\"dataframe\">\n",
       "  <thead>\n",
       "    <tr style=\"text-align: right;\">\n",
       "      <th></th>\n",
       "      <th>Winning Numbers</th>\n",
       "      <th>Mega Ball</th>\n",
       "      <th>Multiplier</th>\n",
       "      <th>five_tuples</th>\n",
       "    </tr>\n",
       "    <tr>\n",
       "      <th>Draw Date</th>\n",
       "      <th></th>\n",
       "      <th></th>\n",
       "      <th></th>\n",
       "      <th></th>\n",
       "    </tr>\n",
       "  </thead>\n",
       "  <tbody>\n",
       "    <tr>\n",
       "      <th>2024-01-12</th>\n",
       "      <td>19 34 35 45 67</td>\n",
       "      <td>7</td>\n",
       "      <td>3.0</td>\n",
       "      <td>(19, 34, 35, 45, 67)</td>\n",
       "    </tr>\n",
       "    <tr>\n",
       "      <th>2024-01-09</th>\n",
       "      <td>12 15 32 33 53</td>\n",
       "      <td>24</td>\n",
       "      <td>3.0</td>\n",
       "      <td>(12, 15, 32, 33, 53)</td>\n",
       "    </tr>\n",
       "    <tr>\n",
       "      <th>2024-01-05</th>\n",
       "      <td>05 23 26 38 44</td>\n",
       "      <td>25</td>\n",
       "      <td>3.0</td>\n",
       "      <td>(5, 23, 26, 38, 44)</td>\n",
       "    </tr>\n",
       "    <tr>\n",
       "      <th>2024-01-02</th>\n",
       "      <td>03 18 27 29 64</td>\n",
       "      <td>1</td>\n",
       "      <td>2.0</td>\n",
       "      <td>(3, 18, 27, 29, 64)</td>\n",
       "    </tr>\n",
       "    <tr>\n",
       "      <th>2023-12-29</th>\n",
       "      <td>11 27 30 62 70</td>\n",
       "      <td>10</td>\n",
       "      <td>3.0</td>\n",
       "      <td>(11, 27, 30, 62, 70)</td>\n",
       "    </tr>\n",
       "  </tbody>\n",
       "</table>\n",
       "</div>"
      ],
      "text/plain": [
       "           Winning Numbers  Mega Ball  Multiplier           five_tuples\n",
       "Draw Date                                                              \n",
       "2024-01-12  19 34 35 45 67          7         3.0  (19, 34, 35, 45, 67)\n",
       "2024-01-09  12 15 32 33 53         24         3.0  (12, 15, 32, 33, 53)\n",
       "2024-01-05  05 23 26 38 44         25         3.0   (5, 23, 26, 38, 44)\n",
       "2024-01-02  03 18 27 29 64          1         2.0   (3, 18, 27, 29, 64)\n",
       "2023-12-29  11 27 30 62 70         10         3.0  (11, 27, 30, 62, 70)"
      ]
     },
     "execution_count": 329,
     "metadata": {},
     "output_type": "execute_result"
    }
   ],
   "source": [
    "lottery_nf.head()"
   ]
  },
  {
   "cell_type": "markdown",
   "id": "1a6cab35",
   "metadata": {},
   "source": [
    "### Counting each combination\n",
    "\n",
    "Every realization of X has a tuple representative.\n",
    "\n",
    "and using the set of tuple representatives, we can count the number of times each representative to look for evidence of a non uniform distribution."
   ]
  },
  {
   "cell_type": "code",
   "execution_count": 330,
   "id": "850563e5",
   "metadata": {},
   "outputs": [],
   "source": [
    "from collections import Counter"
   ]
  },
  {
   "cell_type": "code",
   "execution_count": 331,
   "id": "fc04cfe9",
   "metadata": {},
   "outputs": [],
   "source": [
    "tuple_counts = Counter(lottery_nf['five_tuples'].values)"
   ]
  },
  {
   "cell_type": "code",
   "execution_count": 332,
   "id": "28864aea",
   "metadata": {},
   "outputs": [],
   "source": [
    "import matplotlib.pyplot as plt\n",
    "import seaborn as sns"
   ]
  },
  {
   "cell_type": "markdown",
   "id": "56aa7e5c",
   "metadata": {},
   "source": [
    "Using the Counter object again, we can count the number of counts in our dict."
   ]
  },
  {
   "cell_type": "code",
   "execution_count": 333,
   "id": "e434f1d2",
   "metadata": {},
   "outputs": [],
   "source": [
    "tuple_count_counts = Counter(tuple_counts.values())"
   ]
  },
  {
   "cell_type": "code",
   "execution_count": 334,
   "id": "f3fe0dd1",
   "metadata": {},
   "outputs": [
    {
     "name": "stdout",
     "output_type": "stream",
     "text": [
      "Counter({1: 647})\n"
     ]
    }
   ],
   "source": [
    "print(tuple_count_counts)"
   ]
  },
  {
   "cell_type": "markdown",
   "id": "42ad1d9e",
   "metadata": {},
   "source": [
    "In our data, no combination appears more than once! At least thats some evidence that our lottery machines are not biased  towards a certain number. We can do a hypothesis test of some kind in a future project to see if this evidence is statistically significant."
   ]
  },
  {
   "cell_type": "markdown",
   "id": "e182068d",
   "metadata": {},
   "source": [
    "### Plotting the first number. \n",
    "\n",
    "So, we want plot the first number of the combinations and see if they are uniformily distributed over\n",
    "$[1..70]$."
   ]
  },
  {
   "cell_type": "code",
   "execution_count": 335,
   "id": "51c16375",
   "metadata": {},
   "outputs": [],
   "source": [
    "def get_first(t):\n",
    "    return t[0]"
   ]
  },
  {
   "cell_type": "code",
   "execution_count": 336,
   "id": "dd8e059c",
   "metadata": {},
   "outputs": [
    {
     "data": {
      "image/png": "[encoded data removed]",
      "text/plain": [
       "<Figure size 640x480 with 1 Axes>"
      ]
     },
     "metadata": {},
     "output_type": "display_data"
    }
   ],
   "source": [
    "sns.histplot(x = lottery_nf['Winning Numbers'].apply(str.split).apply(get_first).apply(int))\n",
    "plt.show()"
   ]
  },
  {
   "cell_type": "markdown",
   "id": "b09b1189",
   "metadata": {},
   "source": [
    "What!? Could this be evidence of bias? Lets hold our horses, and think about this a bit. Maybe there is a more likely explanation. Maybe our entries in the 'Winning Numbers' column are already sorted?"
   ]
  },
  {
   "cell_type": "code",
   "execution_count": 337,
   "id": "c8e4bc58",
   "metadata": {},
   "outputs": [
    {
     "data": {
      "text/plain": [
       "(647, 4)"
      ]
     },
     "execution_count": 337,
     "metadata": {},
     "output_type": "execute_result"
    }
   ],
   "source": [
    "lottery_nf.shape "
   ]
  },
  {
   "cell_type": "code",
   "execution_count": 338,
   "id": "f740419b",
   "metadata": {},
   "outputs": [],
   "source": [
    "def list_min(l):\n",
    "    return min([ int(i) for i in l])\n",
    "    "
   ]
  },
  {
   "cell_type": "code",
   "execution_count": 339,
   "id": "dfa92328",
   "metadata": {},
   "outputs": [],
   "source": [
    "df1 = lottery_nf['Winning Numbers'].apply(str.split).apply(list_min)\n",
    "df2 = lottery_nf['Winning Numbers'].apply(str.split).apply(get_first).apply(int)\n",
    "\n"
   ]
  },
  {
   "cell_type": "code",
   "execution_count": 340,
   "id": "caf47d17",
   "metadata": {},
   "outputs": [
    {
     "name": "stdout",
     "output_type": "stream",
     "text": [
      "0    647\n",
      "Name: Winning Numbers, dtype: int64\n"
     ]
    }
   ],
   "source": [
    "print((df1 - df2).value_counts())"
   ]
  },
  {
   "cell_type": "markdown",
   "id": "4f6bb707",
   "metadata": {},
   "source": [
    "Now we see the issue, the first value in each entry in our 'Winning Numbers' column\n",
    "is also the minimum value of its containing list. Could the entire entry be sorted?"
   ]
  },
  {
   "cell_type": "markdown",
   "id": "b21a6907",
   "metadata": {},
   "source": [
    "Time for a computation:"
   ]
  },
  {
   "cell_type": "code",
   "execution_count": 341,
   "id": "095177c7",
   "metadata": {},
   "outputs": [],
   "source": [
    "def list_int(l):\n",
    "    return [ int(i) for i in l]"
   ]
  },
  {
   "cell_type": "code",
   "execution_count": 342,
   "id": "f43c59f3",
   "metadata": {},
   "outputs": [
    {
     "name": "stdout",
     "output_type": "stream",
     "text": [
      "(0, 0, 0, 0, 0)    647\n",
      "Name: Winning Numbers, dtype: int64\n"
     ]
    }
   ],
   "source": [
    "print((lottery_nf['Winning Numbers'].apply(str.split).apply(list_int).apply(np.array)\n",
    " - lottery_nf['Winning Numbers'].apply(str.split).apply(list_int).apply(np.array).apply(sorted)\n",
    ").apply(tuple).value_counts())"
   ]
  },
  {
   "cell_type": "markdown",
   "id": "0457c9a2",
   "metadata": {},
   "source": [
    "The above code sorts each list and from it subtracts its sorted version, and in this case, every list is also sorted! A much likelier explanation for the non uniform distribution is that every list was already sorted. The likelihood of every list also being sorted is just too small. Maybe in a future project we can compute this probablity and do a hypothesis test."
   ]
  },
  {
   "cell_type": "raw",
   "id": "10e48a8f",
   "metadata": {},
   "source": [
    "def list_int(l):\n",
    "    return [ int(i) for i in l]"
   ]
  },
  {
   "cell_type": "raw",
   "id": "0df22bad",
   "metadata": {},
   "source": [
    "(lottery_nf['Winning Numbers'].apply(str.split).apply(list_int).apply(np.array)\n",
    " - lottery_nf['Winning Numbers'].apply(str.split).apply(list_int).apply(np.array).apply(sorted)\n",
    ").apply(tuple).value_counts()"
   ]
  }
 ],
 "metadata": {
  "kernelspec": {
   "display_name": "Python 3 (ipykernel)",
   "language": "python",
   "name": "python3"
  },
  "language_info": {
   "codemirror_mode": {
    "name": "ipython",
    "version": 3
   },
   "file_extension": ".py",
   "mimetype": "text/x-python",
   "name": "python",
   "nbconvert_exporter": "python",
   "pygments_lexer": "ipython3",
   "version": "3.8.13"
  }
 },
 "nbformat": 4,
 "nbformat_minor": 5
}
